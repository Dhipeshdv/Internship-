{
 "cells": [
  {
   "cell_type": "code",
   "execution_count": 1,
   "id": "a4f3b7e0",
   "metadata": {},
   "outputs": [],
   "source": [
    "import tensorflow as tf\n",
    "import os\n",
    "import pandas as pd\n",
    "import numpy as np"
   ]
  },
  {
   "cell_type": "code",
   "execution_count": 2,
   "id": "908bb2cb",
   "metadata": {},
   "outputs": [],
   "source": [
    "df = pd.read_csv('solar.csv')\n",
    "df = df[5::6]"
   ]
  },
  {
   "cell_type": "code",
   "execution_count": 3,
   "id": "4b497dd0",
   "metadata": {},
   "outputs": [
    {
     "data": {
      "text/html": [
       "<div>\n",
       "<style scoped>\n",
       "    .dataframe tbody tr th:only-of-type {\n",
       "        vertical-align: middle;\n",
       "    }\n",
       "\n",
       "    .dataframe tbody tr th {\n",
       "        vertical-align: top;\n",
       "    }\n",
       "\n",
       "    .dataframe thead th {\n",
       "        text-align: right;\n",
       "    }\n",
       "</style>\n",
       "<table border=\"1\" class=\"dataframe\">\n",
       "  <thead>\n",
       "    <tr style=\"text-align: right;\">\n",
       "      <th></th>\n",
       "      <th>Year</th>\n",
       "      <th>Month</th>\n",
       "      <th>Day</th>\n",
       "      <th>Hour</th>\n",
       "      <th>Minute</th>\n",
       "      <th>DHI</th>\n",
       "      <th>DNI</th>\n",
       "      <th>Dew Point</th>\n",
       "      <th>Pressure</th>\n",
       "      <th>Temperature</th>\n",
       "      <th>Wind Speed</th>\n",
       "      <th>GHI</th>\n",
       "      <th>Wind Direction</th>\n",
       "      <th>Unnamed: 13</th>\n",
       "      <th>Unnamed: 14</th>\n",
       "    </tr>\n",
       "  </thead>\n",
       "  <tbody>\n",
       "    <tr>\n",
       "      <th>5</th>\n",
       "      <td>2003</td>\n",
       "      <td>1</td>\n",
       "      <td>1</td>\n",
       "      <td>6</td>\n",
       "      <td>30</td>\n",
       "      <td>0</td>\n",
       "      <td>0</td>\n",
       "      <td>22</td>\n",
       "      <td>10080</td>\n",
       "      <td>24</td>\n",
       "      <td>0.0</td>\n",
       "      <td>0</td>\n",
       "      <td>14.4</td>\n",
       "      <td>NaN</td>\n",
       "      <td>NaN</td>\n",
       "    </tr>\n",
       "    <tr>\n",
       "      <th>11</th>\n",
       "      <td>2003</td>\n",
       "      <td>1</td>\n",
       "      <td>1</td>\n",
       "      <td>12</td>\n",
       "      <td>30</td>\n",
       "      <td>206</td>\n",
       "      <td>749</td>\n",
       "      <td>20</td>\n",
       "      <td>10060</td>\n",
       "      <td>30</td>\n",
       "      <td>0.0</td>\n",
       "      <td>809</td>\n",
       "      <td>6.9</td>\n",
       "      <td>NaN</td>\n",
       "      <td>NaN</td>\n",
       "    </tr>\n",
       "    <tr>\n",
       "      <th>17</th>\n",
       "      <td>2003</td>\n",
       "      <td>1</td>\n",
       "      <td>1</td>\n",
       "      <td>18</td>\n",
       "      <td>30</td>\n",
       "      <td>0</td>\n",
       "      <td>0</td>\n",
       "      <td>19</td>\n",
       "      <td>10070</td>\n",
       "      <td>24</td>\n",
       "      <td>0.2</td>\n",
       "      <td>0</td>\n",
       "      <td>8.2</td>\n",
       "      <td>NaN</td>\n",
       "      <td>NaN</td>\n",
       "    </tr>\n",
       "    <tr>\n",
       "      <th>23</th>\n",
       "      <td>2003</td>\n",
       "      <td>1</td>\n",
       "      <td>2</td>\n",
       "      <td>0</td>\n",
       "      <td>30</td>\n",
       "      <td>0</td>\n",
       "      <td>0</td>\n",
       "      <td>19</td>\n",
       "      <td>10070</td>\n",
       "      <td>23</td>\n",
       "      <td>0.2</td>\n",
       "      <td>0</td>\n",
       "      <td>9.2</td>\n",
       "      <td>NaN</td>\n",
       "      <td>NaN</td>\n",
       "    </tr>\n",
       "    <tr>\n",
       "      <th>29</th>\n",
       "      <td>2003</td>\n",
       "      <td>1</td>\n",
       "      <td>2</td>\n",
       "      <td>6</td>\n",
       "      <td>30</td>\n",
       "      <td>0</td>\n",
       "      <td>0</td>\n",
       "      <td>20</td>\n",
       "      <td>10100</td>\n",
       "      <td>24</td>\n",
       "      <td>0.1</td>\n",
       "      <td>0</td>\n",
       "      <td>7.8</td>\n",
       "      <td>NaN</td>\n",
       "      <td>NaN</td>\n",
       "    </tr>\n",
       "    <tr>\n",
       "      <th>...</th>\n",
       "      <td>...</td>\n",
       "      <td>...</td>\n",
       "      <td>...</td>\n",
       "      <td>...</td>\n",
       "      <td>...</td>\n",
       "      <td>...</td>\n",
       "      <td>...</td>\n",
       "      <td>...</td>\n",
       "      <td>...</td>\n",
       "      <td>...</td>\n",
       "      <td>...</td>\n",
       "      <td>...</td>\n",
       "      <td>...</td>\n",
       "      <td>...</td>\n",
       "      <td>...</td>\n",
       "    </tr>\n",
       "    <tr>\n",
       "      <th>8729</th>\n",
       "      <td>2011</td>\n",
       "      <td>12</td>\n",
       "      <td>30</td>\n",
       "      <td>18</td>\n",
       "      <td>30</td>\n",
       "      <td>0</td>\n",
       "      <td>0</td>\n",
       "      <td>23</td>\n",
       "      <td>10060</td>\n",
       "      <td>25</td>\n",
       "      <td>0.3</td>\n",
       "      <td>0</td>\n",
       "      <td>10.3</td>\n",
       "      <td>NaN</td>\n",
       "      <td>NaN</td>\n",
       "    </tr>\n",
       "    <tr>\n",
       "      <th>8735</th>\n",
       "      <td>2011</td>\n",
       "      <td>12</td>\n",
       "      <td>31</td>\n",
       "      <td>0</td>\n",
       "      <td>30</td>\n",
       "      <td>0</td>\n",
       "      <td>0</td>\n",
       "      <td>22</td>\n",
       "      <td>10060</td>\n",
       "      <td>25</td>\n",
       "      <td>0.3</td>\n",
       "      <td>0</td>\n",
       "      <td>10.3</td>\n",
       "      <td>NaN</td>\n",
       "      <td>NaN</td>\n",
       "    </tr>\n",
       "    <tr>\n",
       "      <th>8741</th>\n",
       "      <td>2011</td>\n",
       "      <td>12</td>\n",
       "      <td>31</td>\n",
       "      <td>6</td>\n",
       "      <td>30</td>\n",
       "      <td>0</td>\n",
       "      <td>0</td>\n",
       "      <td>22</td>\n",
       "      <td>10080</td>\n",
       "      <td>25</td>\n",
       "      <td>0.2</td>\n",
       "      <td>0</td>\n",
       "      <td>12.1</td>\n",
       "      <td>NaN</td>\n",
       "      <td>NaN</td>\n",
       "    </tr>\n",
       "    <tr>\n",
       "      <th>8747</th>\n",
       "      <td>2011</td>\n",
       "      <td>12</td>\n",
       "      <td>31</td>\n",
       "      <td>12</td>\n",
       "      <td>30</td>\n",
       "      <td>398</td>\n",
       "      <td>156</td>\n",
       "      <td>23</td>\n",
       "      <td>10060</td>\n",
       "      <td>28</td>\n",
       "      <td>0.2</td>\n",
       "      <td>524</td>\n",
       "      <td>14.3</td>\n",
       "      <td>NaN</td>\n",
       "      <td>NaN</td>\n",
       "    </tr>\n",
       "    <tr>\n",
       "      <th>8753</th>\n",
       "      <td>2011</td>\n",
       "      <td>12</td>\n",
       "      <td>31</td>\n",
       "      <td>18</td>\n",
       "      <td>30</td>\n",
       "      <td>0</td>\n",
       "      <td>0</td>\n",
       "      <td>22</td>\n",
       "      <td>10070</td>\n",
       "      <td>25</td>\n",
       "      <td>0.1</td>\n",
       "      <td>0</td>\n",
       "      <td>12.4</td>\n",
       "      <td>NaN</td>\n",
       "      <td>NaN</td>\n",
       "    </tr>\n",
       "  </tbody>\n",
       "</table>\n",
       "<p>1459 rows × 15 columns</p>\n",
       "</div>"
      ],
      "text/plain": [
       "      Year  Month  Day  Hour  Minute  DHI  DNI  Dew Point  Pressure  \\\n",
       "5     2003      1    1     6      30    0    0         22     10080   \n",
       "11    2003      1    1    12      30  206  749         20     10060   \n",
       "17    2003      1    1    18      30    0    0         19     10070   \n",
       "23    2003      1    2     0      30    0    0         19     10070   \n",
       "29    2003      1    2     6      30    0    0         20     10100   \n",
       "...    ...    ...  ...   ...     ...  ...  ...        ...       ...   \n",
       "8729  2011     12   30    18      30    0    0         23     10060   \n",
       "8735  2011     12   31     0      30    0    0         22     10060   \n",
       "8741  2011     12   31     6      30    0    0         22     10080   \n",
       "8747  2011     12   31    12      30  398  156         23     10060   \n",
       "8753  2011     12   31    18      30    0    0         22     10070   \n",
       "\n",
       "      Temperature  Wind Speed  GHI  Wind Direction  Unnamed: 13  Unnamed: 14  \n",
       "5              24         0.0    0            14.4          NaN          NaN  \n",
       "11             30         0.0  809             6.9          NaN          NaN  \n",
       "17             24         0.2    0             8.2          NaN          NaN  \n",
       "23             23         0.2    0             9.2          NaN          NaN  \n",
       "29             24         0.1    0             7.8          NaN          NaN  \n",
       "...           ...         ...  ...             ...          ...          ...  \n",
       "8729           25         0.3    0            10.3          NaN          NaN  \n",
       "8735           25         0.3    0            10.3          NaN          NaN  \n",
       "8741           25         0.2    0            12.1          NaN          NaN  \n",
       "8747           28         0.2  524            14.3          NaN          NaN  \n",
       "8753           25         0.1    0            12.4          NaN          NaN  \n",
       "\n",
       "[1459 rows x 15 columns]"
      ]
     },
     "execution_count": 3,
     "metadata": {},
     "output_type": "execute_result"
    }
   ],
   "source": [
    "df"
   ]
  },
  {
   "cell_type": "code",
   "execution_count": 4,
   "id": "f817a1a9",
   "metadata": {},
   "outputs": [
    {
     "data": {
      "text/plain": [
       "<Axes: >"
      ]
     },
     "execution_count": 4,
     "metadata": {},
     "output_type": "execute_result"
    },
    {
     "data": {
      "image/png": "[encoded data removed]",
      "text/plain": [
       "<Figure size 640x480 with 1 Axes>"
      ]
     },
     "metadata": {},
     "output_type": "display_data"
    }
   ],
   "source": [
    "temp = df['Temperature']\n",
    "temp.plot()"
   ]
  },
  {
   "cell_type": "code",
   "execution_count": 5,
   "id": "c815319b",
   "metadata": {},
   "outputs": [],
   "source": [
    "def df_to_X_y(df, window_size=5):\n",
    "  df_as_np = df.to_numpy()\n",
    "  X = []\n",
    "  y = []\n",
    "  for i in range(len(df_as_np)-window_size):\n",
    "    row = [[a] for a in df_as_np[i:i+window_size]]\n",
    "    X.append(row)\n",
    "    label = df_as_np[i+window_size]\n",
    "    y.append(label)\n",
    "  return np.array(X), np.array(y)"
   ]
  },
  {
   "cell_type": "code",
   "execution_count": 6,
   "id": "082db54f",
   "metadata": {},
   "outputs": [
    {
     "data": {
      "text/plain": [
       "((1454, 5, 1), (1454,))"
      ]
     },
     "execution_count": 6,
     "metadata": {},
     "output_type": "execute_result"
    }
   ],
   "source": [
    "WINDOW_SIZE = 5\n",
    "X1, y1 = df_to_X_y(temp, WINDOW_SIZE)\n",
    "X1.shape, y1.shape"
   ]
  },
  {
   "cell_type": "code",
   "execution_count": 7,
   "id": "acd52dba",
   "metadata": {},
   "outputs": [
    {
     "data": {
      "text/plain": [
       "((900, 5, 1), (900,), (250, 5, 1), (250,), (304, 5, 1), (304,))"
      ]
     },
     "execution_count": 7,
     "metadata": {},
     "output_type": "execute_result"
    }
   ],
   "source": [
    "X_train1, y_train1 = X1[:900], y1[:900]\n",
    "X_val1, y_val1 = X1[900:1150], y1[900:1150]\n",
    "X_test1, y_test1 = X1[1150:], y1[1150:]\n",
    "X_train1.shape, y_train1.shape, X_val1.shape, y_val1.shape, X_test1.shape, y_test1.shape"
   ]
  },
  {
   "cell_type": "code",
   "execution_count": 8,
   "id": "51697012",
   "metadata": {},
   "outputs": [
    {
     "name": "stdout",
     "output_type": "stream",
     "text": [
      "Model: \"sequential\"\n",
      "_________________________________________________________________\n",
      " Layer (type)                Output Shape              Param #   \n",
      "=================================================================\n",
      " lstm (LSTM)                 (None, 64)                16896     \n",
      "                                                                 \n",
      " dense (Dense)               (None, 8)                 520       \n",
      "                                                                 \n",
      " dense_1 (Dense)             (None, 1)                 9         \n",
      "                                                                 \n",
      "=================================================================\n",
      "Total params: 17425 (68.07 KB)\n",
      "Trainable params: 17425 (68.07 KB)\n",
      "Non-trainable params: 0 (0.00 Byte)\n",
      "_________________________________________________________________\n"
     ]
    }
   ],
   "source": [
    "from tensorflow.keras.models import Sequential\n",
    "from tensorflow.keras.layers import *\n",
    "from tensorflow.keras.callbacks import ModelCheckpoint\n",
    "from tensorflow.keras.losses import MeanSquaredError\n",
    "from tensorflow.keras.metrics import RootMeanSquaredError\n",
    "from tensorflow.keras.optimizers import Adam\n",
    "\n",
    "model1 = Sequential()\n",
    "model1.add(InputLayer((5, 1)))\n",
    "model1.add(LSTM(64))\n",
    "model1.add(Dense(8, 'relu'))\n",
    "model1.add(Dense(1, 'linear'))\n",
    "model1.summary()"
   ]
  },
  {
   "cell_type": "code",
   "execution_count": 9,
   "id": "94477aea",
   "metadata": {},
   "outputs": [],
   "source": [
    "cp1 = ModelCheckpoint('model1/', save_best_only=True)\n",
    "model1.compile(loss=MeanSquaredError(), optimizer=Adam(learning_rate=0.0001), metrics=[RootMeanSquaredError()])"
   ]
  },
  {
   "cell_type": "code",
   "execution_count": 10,
   "id": "6fd9f0ad",
   "metadata": {},
   "outputs": [
    {
     "name": "stdout",
     "output_type": "stream",
     "text": [
      "Epoch 1/100\n",
      "26/29 [=========================>....] - ETA: 0s - loss: 830.4923 - root_mean_squared_error: 28.8183INFO:tensorflow:Assets written to: model1\\assets\n"
     ]
    },
    {
     "name": "stderr",
     "output_type": "stream",
     "text": [
      "INFO:tensorflow:Assets written to: model1\\assets\n"
     ]
    },
    {
     "name": "stdout",
     "output_type": "stream",
     "text": [
      "29/29 [==============================] - 21s 454ms/step - loss: 831.1437 - root_mean_squared_error: 28.8296 - val_loss: 761.8271 - val_root_mean_squared_error: 27.6012\n",
      "Epoch 2/100\n",
      "27/29 [==========================>...] - ETA: 0s - loss: 817.6337 - root_mean_squared_error: 28.5943INFO:tensorflow:Assets written to: model1\\assets\n"
     ]
    },
    {
     "name": "stderr",
     "output_type": "stream",
     "text": [
      "INFO:tensorflow:Assets written to: model1\\assets\n"
     ]
    },
    {
     "name": "stdout",
     "output_type": "stream",
     "text": [
      "29/29 [==============================] - 11s 402ms/step - loss: 816.7855 - root_mean_squared_error: 28.5795 - val_loss: 747.0842 - val_root_mean_squared_error: 27.3328\n",
      "Epoch 3/100\n",
      "27/29 [==========================>...] - ETA: 0s - loss: 798.1867 - root_mean_squared_error: 28.2522INFO:tensorflow:Assets written to: model1\\assets\n"
     ]
    },
    {
     "name": "stderr",
     "output_type": "stream",
     "text": [
      "INFO:tensorflow:Assets written to: model1\\assets\n"
     ]
    },
    {
     "name": "stdout",
     "output_type": "stream",
     "text": [
      "29/29 [==============================] - 12s 430ms/step - loss: 797.3892 - root_mean_squared_error: 28.2381 - val_loss: 723.4508 - val_root_mean_squared_error: 26.8970\n",
      "Epoch 4/100\n",
      "28/29 [===========================>..] - ETA: 0s - loss: 772.1896 - root_mean_squared_error: 27.7883INFO:tensorflow:Assets written to: model1\\assets\n"
     ]
    },
    {
     "name": "stderr",
     "output_type": "stream",
     "text": [
      "INFO:tensorflow:Assets written to: model1\\assets\n"
     ]
    },
    {
     "name": "stdout",
     "output_type": "stream",
     "text": [
      "29/29 [==============================] - 13s 468ms/step - loss: 771.8235 - root_mean_squared_error: 27.7817 - val_loss: 697.0237 - val_root_mean_squared_error: 26.4012\n",
      "Epoch 5/100\n",
      "27/29 [==========================>...] - ETA: 0s - loss: 745.4877 - root_mean_squared_error: 27.3036INFO:tensorflow:Assets written to: model1\\assets\n"
     ]
    },
    {
     "name": "stderr",
     "output_type": "stream",
     "text": [
      "INFO:tensorflow:Assets written to: model1\\assets\n"
     ]
    },
    {
     "name": "stdout",
     "output_type": "stream",
     "text": [
      "29/29 [==============================] - 11s 405ms/step - loss: 743.6491 - root_mean_squared_error: 27.2699 - val_loss: 667.7166 - val_root_mean_squared_error: 25.8402\n",
      "Epoch 6/100\n",
      "26/29 [=========================>....] - ETA: 0s - loss: 714.2773 - root_mean_squared_error: 26.7260INFO:tensorflow:Assets written to: model1\\assets\n"
     ]
    },
    {
     "name": "stderr",
     "output_type": "stream",
     "text": [
      "INFO:tensorflow:Assets written to: model1\\assets\n"
     ]
    },
    {
     "name": "stdout",
     "output_type": "stream",
     "text": [
      "29/29 [==============================] - 9s 320ms/step - loss: 712.3392 - root_mean_squared_error: 26.6897 - val_loss: 635.3839 - val_root_mean_squared_error: 25.2068\n",
      "Epoch 7/100\n",
      "27/29 [==========================>...] - ETA: 0s - loss: 680.3667 - root_mean_squared_error: 26.0838INFO:tensorflow:Assets written to: model1\\assets\n"
     ]
    },
    {
     "name": "stderr",
     "output_type": "stream",
     "text": [
      "INFO:tensorflow:Assets written to: model1\\assets\n"
     ]
    },
    {
     "name": "stdout",
     "output_type": "stream",
     "text": [
      "29/29 [==============================] - 10s 363ms/step - loss: 677.2878 - root_mean_squared_error: 26.0248 - val_loss: 597.7073 - val_root_mean_squared_error: 24.4481\n",
      "Epoch 8/100\n",
      "26/29 [=========================>....] - ETA: 0s - loss: 637.9932 - root_mean_squared_error: 25.2585INFO:tensorflow:Assets written to: model1\\assets\n"
     ]
    },
    {
     "name": "stderr",
     "output_type": "stream",
     "text": [
      "INFO:tensorflow:Assets written to: model1\\assets\n"
     ]
    },
    {
     "name": "stdout",
     "output_type": "stream",
     "text": [
      "29/29 [==============================] - 8s 300ms/step - loss: 635.1678 - root_mean_squared_error: 25.2025 - val_loss: 551.5524 - val_root_mean_squared_error: 23.4852\n",
      "Epoch 9/100\n",
      "24/29 [=======================>......] - ETA: 0s - loss: 583.9038 - root_mean_squared_error: 24.1641INFO:tensorflow:Assets written to: model1\\assets\n"
     ]
    },
    {
     "name": "stderr",
     "output_type": "stream",
     "text": [
      "INFO:tensorflow:Assets written to: model1\\assets\n"
     ]
    },
    {
     "name": "stdout",
     "output_type": "stream",
     "text": [
      "29/29 [==============================] - 10s 352ms/step - loss: 585.5165 - root_mean_squared_error: 24.1974 - val_loss: 501.8512 - val_root_mean_squared_error: 22.4020\n",
      "Epoch 10/100\n",
      "27/29 [==========================>...] - ETA: 0s - loss: 534.4526 - root_mean_squared_error: 23.1182INFO:tensorflow:Assets written to: model1\\assets\n"
     ]
    },
    {
     "name": "stderr",
     "output_type": "stream",
     "text": [
      "INFO:tensorflow:Assets written to: model1\\assets\n"
     ]
    },
    {
     "name": "stdout",
     "output_type": "stream",
     "text": [
      "29/29 [==============================] - 9s 310ms/step - loss: 533.5289 - root_mean_squared_error: 23.0982 - val_loss: 450.4673 - val_root_mean_squared_error: 21.2242\n",
      "Epoch 11/100\n",
      "26/29 [=========================>....] - ETA: 0s - loss: 483.8362 - root_mean_squared_error: 21.9963INFO:tensorflow:Assets written to: model1\\assets\n"
     ]
    },
    {
     "name": "stderr",
     "output_type": "stream",
     "text": [
      "INFO:tensorflow:Assets written to: model1\\assets\n"
     ]
    },
    {
     "name": "stdout",
     "output_type": "stream",
     "text": [
      "29/29 [==============================] - 9s 334ms/step - loss: 480.2385 - root_mean_squared_error: 21.9143 - val_loss: 399.6204 - val_root_mean_squared_error: 19.9905\n",
      "Epoch 12/100\n",
      "25/29 [========================>.....] - ETA: 0s - loss: 429.1624 - root_mean_squared_error: 20.7162INFO:tensorflow:Assets written to: model1\\assets\n"
     ]
    },
    {
     "name": "stderr",
     "output_type": "stream",
     "text": [
      "INFO:tensorflow:Assets written to: model1\\assets\n"
     ]
    },
    {
     "name": "stdout",
     "output_type": "stream",
     "text": [
      "29/29 [==============================] - 9s 322ms/step - loss: 428.9797 - root_mean_squared_error: 20.7118 - val_loss: 354.0453 - val_root_mean_squared_error: 18.8161\n",
      "Epoch 13/100\n",
      "29/29 [==============================] - ETA: 0s - loss: 383.9552 - root_mean_squared_error: 19.5948INFO:tensorflow:Assets written to: model1\\assets\n"
     ]
    },
    {
     "name": "stderr",
     "output_type": "stream",
     "text": [
      "INFO:tensorflow:Assets written to: model1\\assets\n"
     ]
    },
    {
     "name": "stdout",
     "output_type": "stream",
     "text": [
      "29/29 [==============================] - 9s 311ms/step - loss: 383.9552 - root_mean_squared_error: 19.5948 - val_loss: 315.8301 - val_root_mean_squared_error: 17.7716\n",
      "Epoch 14/100\n",
      "28/29 [===========================>..] - ETA: 0s - loss: 347.2179 - root_mean_squared_error: 18.6338INFO:tensorflow:Assets written to: model1\\assets\n"
     ]
    },
    {
     "name": "stderr",
     "output_type": "stream",
     "text": [
      "INFO:tensorflow:Assets written to: model1\\assets\n"
     ]
    },
    {
     "name": "stdout",
     "output_type": "stream",
     "text": [
      "29/29 [==============================] - 10s 361ms/step - loss: 346.7593 - root_mean_squared_error: 18.6215 - val_loss: 284.7581 - val_root_mean_squared_error: 16.8748\n",
      "Epoch 15/100\n",
      "26/29 [=========================>....] - ETA: 0s - loss: 314.3701 - root_mean_squared_error: 17.7305INFO:tensorflow:Assets written to: model1\\assets\n"
     ]
    },
    {
     "name": "stderr",
     "output_type": "stream",
     "text": [
      "INFO:tensorflow:Assets written to: model1\\assets\n"
     ]
    },
    {
     "name": "stdout",
     "output_type": "stream",
     "text": [
      "29/29 [==============================] - 8s 300ms/step - loss: 316.3357 - root_mean_squared_error: 17.7858 - val_loss: 259.3443 - val_root_mean_squared_error: 16.1042\n",
      "Epoch 16/100\n",
      "25/29 [========================>.....] - ETA: 0s - loss: 292.0096 - root_mean_squared_error: 17.0883INFO:tensorflow:Assets written to: model1\\assets\n"
     ]
    },
    {
     "name": "stderr",
     "output_type": "stream",
     "text": [
      "INFO:tensorflow:Assets written to: model1\\assets\n"
     ]
    },
    {
     "name": "stdout",
     "output_type": "stream",
     "text": [
      "29/29 [==============================] - 10s 352ms/step - loss: 290.9481 - root_mean_squared_error: 17.0572 - val_loss: 237.7456 - val_root_mean_squared_error: 15.4190\n",
      "Epoch 17/100\n",
      "25/29 [========================>.....] - ETA: 0s - loss: 271.4034 - root_mean_squared_error: 16.4743INFO:tensorflow:Assets written to: model1\\assets\n"
     ]
    },
    {
     "name": "stderr",
     "output_type": "stream",
     "text": [
      "INFO:tensorflow:Assets written to: model1\\assets\n"
     ]
    },
    {
     "name": "stdout",
     "output_type": "stream",
     "text": [
      "29/29 [==============================] - 9s 328ms/step - loss: 269.3418 - root_mean_squared_error: 16.4116 - val_loss: 219.2141 - val_root_mean_squared_error: 14.8059\n",
      "Epoch 18/100\n",
      "25/29 [========================>.....] - ETA: 0s - loss: 251.2155 - root_mean_squared_error: 15.8498INFO:tensorflow:Assets written to: model1\\assets\n"
     ]
    },
    {
     "name": "stderr",
     "output_type": "stream",
     "text": [
      "INFO:tensorflow:Assets written to: model1\\assets\n"
     ]
    },
    {
     "name": "stdout",
     "output_type": "stream",
     "text": [
      "29/29 [==============================] - 11s 387ms/step - loss: 250.6026 - root_mean_squared_error: 15.8304 - val_loss: 202.7248 - val_root_mean_squared_error: 14.2381\n",
      "Epoch 19/100\n",
      "28/29 [===========================>..] - ETA: 0s - loss: 233.5611 - root_mean_squared_error: 15.2827INFO:tensorflow:Assets written to: model1\\assets\n"
     ]
    },
    {
     "name": "stderr",
     "output_type": "stream",
     "text": [
      "INFO:tensorflow:Assets written to: model1\\assets\n"
     ]
    },
    {
     "name": "stdout",
     "output_type": "stream",
     "text": [
      "29/29 [==============================] - 10s 342ms/step - loss: 233.3935 - root_mean_squared_error: 15.2772 - val_loss: 187.1230 - val_root_mean_squared_error: 13.6793\n",
      "Epoch 20/100\n",
      "24/29 [=======================>......] - ETA: 0s - loss: 216.5329 - root_mean_squared_error: 14.7151INFO:tensorflow:Assets written to: model1\\assets\n"
     ]
    },
    {
     "name": "stderr",
     "output_type": "stream",
     "text": [
      "INFO:tensorflow:Assets written to: model1\\assets\n"
     ]
    },
    {
     "name": "stdout",
     "output_type": "stream",
     "text": [
      "29/29 [==============================] - 8s 269ms/step - loss: 217.0344 - root_mean_squared_error: 14.7321 - val_loss: 172.0428 - val_root_mean_squared_error: 13.1165\n",
      "Epoch 21/100\n",
      "27/29 [==========================>...] - ETA: 0s - loss: 201.9690 - root_mean_squared_error: 14.2116INFO:tensorflow:Assets written to: model1\\assets\n"
     ]
    },
    {
     "name": "stderr",
     "output_type": "stream",
     "text": [
      "INFO:tensorflow:Assets written to: model1\\assets\n"
     ]
    },
    {
     "name": "stdout",
     "output_type": "stream",
     "text": [
      "29/29 [==============================] - 9s 326ms/step - loss: 201.1211 - root_mean_squared_error: 14.1817 - val_loss: 157.3434 - val_root_mean_squared_error: 12.5437\n",
      "Epoch 22/100\n",
      "23/29 [======================>.......] - ETA: 0s - loss: 188.1477 - root_mean_squared_error: 13.7167INFO:tensorflow:Assets written to: model1\\assets\n"
     ]
    },
    {
     "name": "stderr",
     "output_type": "stream",
     "text": [
      "INFO:tensorflow:Assets written to: model1\\assets\n"
     ]
    },
    {
     "name": "stdout",
     "output_type": "stream",
     "text": [
      "29/29 [==============================] - 8s 277ms/step - loss: 185.6804 - root_mean_squared_error: 13.6265 - val_loss: 143.4760 - val_root_mean_squared_error: 11.9781\n",
      "Epoch 23/100\n",
      "23/29 [======================>.......] - ETA: 0s - loss: 169.8299 - root_mean_squared_error: 13.0319INFO:tensorflow:Assets written to: model1\\assets\n"
     ]
    },
    {
     "name": "stderr",
     "output_type": "stream",
     "text": [
      "INFO:tensorflow:Assets written to: model1\\assets\n"
     ]
    },
    {
     "name": "stdout",
     "output_type": "stream",
     "text": [
      "29/29 [==============================] - 9s 323ms/step - loss: 171.1964 - root_mean_squared_error: 13.0842 - val_loss: 130.6834 - val_root_mean_squared_error: 11.4317\n",
      "Epoch 24/100\n",
      "29/29 [==============================] - ETA: 0s - loss: 157.8271 - root_mean_squared_error: 12.5629INFO:tensorflow:Assets written to: model1\\assets\n"
     ]
    },
    {
     "name": "stderr",
     "output_type": "stream",
     "text": [
      "INFO:tensorflow:Assets written to: model1\\assets\n"
     ]
    },
    {
     "name": "stdout",
     "output_type": "stream",
     "text": [
      "29/29 [==============================] - 8s 279ms/step - loss: 157.8271 - root_mean_squared_error: 12.5629 - val_loss: 119.1188 - val_root_mean_squared_error: 10.9142\n",
      "Epoch 25/100\n",
      "28/29 [===========================>..] - ETA: 0s - loss: 146.1912 - root_mean_squared_error: 12.0910INFO:tensorflow:Assets written to: model1\\assets\n"
     ]
    },
    {
     "name": "stderr",
     "output_type": "stream",
     "text": [
      "INFO:tensorflow:Assets written to: model1\\assets\n"
     ]
    },
    {
     "name": "stdout",
     "output_type": "stream",
     "text": [
      "29/29 [==============================] - 8s 301ms/step - loss: 145.8828 - root_mean_squared_error: 12.0782 - val_loss: 108.8172 - val_root_mean_squared_error: 10.4315\n",
      "Epoch 26/100\n",
      "29/29 [==============================] - ETA: 0s - loss: 134.9755 - root_mean_squared_error: 11.6179INFO:tensorflow:Assets written to: model1\\assets\n"
     ]
    },
    {
     "name": "stderr",
     "output_type": "stream",
     "text": [
      "INFO:tensorflow:Assets written to: model1\\assets\n"
     ]
    },
    {
     "name": "stdout",
     "output_type": "stream",
     "text": [
      "29/29 [==============================] - 9s 306ms/step - loss: 134.9755 - root_mean_squared_error: 11.6179 - val_loss: 98.7833 - val_root_mean_squared_error: 9.9390\n",
      "Epoch 27/100\n",
      "28/29 [===========================>..] - ETA: 0s - loss: 123.8429 - root_mean_squared_error: 11.1285INFO:tensorflow:Assets written to: model1\\assets\n"
     ]
    },
    {
     "name": "stderr",
     "output_type": "stream",
     "text": [
      "INFO:tensorflow:Assets written to: model1\\assets\n"
     ]
    },
    {
     "name": "stdout",
     "output_type": "stream",
     "text": [
      "29/29 [==============================] - 8s 294ms/step - loss: 123.6914 - root_mean_squared_error: 11.1217 - val_loss: 87.9208 - val_root_mean_squared_error: 9.3766\n",
      "Epoch 28/100\n",
      "23/29 [======================>.......] - ETA: 0s - loss: 112.2662 - root_mean_squared_error: 10.5956INFO:tensorflow:Assets written to: model1\\assets\n"
     ]
    },
    {
     "name": "stderr",
     "output_type": "stream",
     "text": [
      "INFO:tensorflow:Assets written to: model1\\assets\n"
     ]
    },
    {
     "name": "stdout",
     "output_type": "stream",
     "text": [
      "29/29 [==============================] - 9s 306ms/step - loss: 112.2664 - root_mean_squared_error: 10.5956 - val_loss: 78.5587 - val_root_mean_squared_error: 8.8633\n",
      "Epoch 29/100\n",
      "28/29 [===========================>..] - ETA: 0s - loss: 102.6840 - root_mean_squared_error: 10.1333INFO:tensorflow:Assets written to: model1\\assets\n"
     ]
    },
    {
     "name": "stderr",
     "output_type": "stream",
     "text": [
      "INFO:tensorflow:Assets written to: model1\\assets\n"
     ]
    },
    {
     "name": "stdout",
     "output_type": "stream",
     "text": [
      "29/29 [==============================] - 8s 289ms/step - loss: 102.7178 - root_mean_squared_error: 10.1350 - val_loss: 70.7179 - val_root_mean_squared_error: 8.4094\n",
      "Epoch 30/100\n",
      "23/29 [======================>.......] - ETA: 0s - loss: 94.7190 - root_mean_squared_error: 9.7324INFO:tensorflow:Assets written to: model1\\assets\n"
     ]
    },
    {
     "name": "stderr",
     "output_type": "stream",
     "text": [
      "INFO:tensorflow:Assets written to: model1\\assets\n"
     ]
    },
    {
     "name": "stdout",
     "output_type": "stream",
     "text": [
      "29/29 [==============================] - 9s 311ms/step - loss: 94.5276 - root_mean_squared_error: 9.7225 - val_loss: 63.9486 - val_root_mean_squared_error: 7.9968\n",
      "Epoch 31/100\n",
      "27/29 [==========================>...] - ETA: 0s - loss: 88.1983 - root_mean_squared_error: 9.3914INFO:tensorflow:Assets written to: model1\\assets\n"
     ]
    },
    {
     "name": "stderr",
     "output_type": "stream",
     "text": [
      "INFO:tensorflow:Assets written to: model1\\assets\n"
     ]
    },
    {
     "name": "stdout",
     "output_type": "stream",
     "text": [
      "29/29 [==============================] - 8s 285ms/step - loss: 87.3263 - root_mean_squared_error: 9.3449 - val_loss: 57.8427 - val_root_mean_squared_error: 7.6054\n",
      "Epoch 32/100\n",
      "23/29 [======================>.......] - ETA: 0s - loss: 83.8568 - root_mean_squared_error: 9.1573INFO:tensorflow:Assets written to: model1\\assets\n"
     ]
    },
    {
     "name": "stderr",
     "output_type": "stream",
     "text": [
      "INFO:tensorflow:Assets written to: model1\\assets\n"
     ]
    },
    {
     "name": "stdout",
     "output_type": "stream",
     "text": [
      "29/29 [==============================] - 9s 303ms/step - loss: 80.7727 - root_mean_squared_error: 8.9874 - val_loss: 52.3219 - val_root_mean_squared_error: 7.2334\n",
      "Epoch 33/100\n",
      "28/29 [===========================>..] - ETA: 0s - loss: 74.7805 - root_mean_squared_error: 8.6476INFO:tensorflow:Assets written to: model1\\assets\n"
     ]
    },
    {
     "name": "stderr",
     "output_type": "stream",
     "text": [
      "INFO:tensorflow:Assets written to: model1\\assets\n"
     ]
    },
    {
     "name": "stdout",
     "output_type": "stream",
     "text": [
      "29/29 [==============================] - 8s 297ms/step - loss: 74.8056 - root_mean_squared_error: 8.6490 - val_loss: 47.3694 - val_root_mean_squared_error: 6.8825\n",
      "Epoch 34/100\n",
      "24/29 [=======================>......] - ETA: 0s - loss: 69.8004 - root_mean_squared_error: 8.3547INFO:tensorflow:Assets written to: model1\\assets\n"
     ]
    },
    {
     "name": "stderr",
     "output_type": "stream",
     "text": [
      "INFO:tensorflow:Assets written to: model1\\assets\n"
     ]
    },
    {
     "name": "stdout",
     "output_type": "stream",
     "text": [
      "29/29 [==============================] - 9s 311ms/step - loss: 69.3713 - root_mean_squared_error: 8.3289 - val_loss: 42.7839 - val_root_mean_squared_error: 6.5409\n",
      "Epoch 35/100\n",
      "29/29 [==============================] - ETA: 0s - loss: 64.3395 - root_mean_squared_error: 8.0212INFO:tensorflow:Assets written to: model1\\assets\n"
     ]
    },
    {
     "name": "stderr",
     "output_type": "stream",
     "text": [
      "INFO:tensorflow:Assets written to: model1\\assets\n"
     ]
    },
    {
     "name": "stdout",
     "output_type": "stream",
     "text": [
      "29/29 [==============================] - 8s 289ms/step - loss: 64.3395 - root_mean_squared_error: 8.0212 - val_loss: 38.6371 - val_root_mean_squared_error: 6.2159\n",
      "Epoch 36/100\n",
      "29/29 [==============================] - ETA: 0s - loss: 59.6980 - root_mean_squared_error: 7.7264INFO:tensorflow:Assets written to: model1\\assets\n"
     ]
    },
    {
     "name": "stderr",
     "output_type": "stream",
     "text": [
      "INFO:tensorflow:Assets written to: model1\\assets\n"
     ]
    },
    {
     "name": "stdout",
     "output_type": "stream",
     "text": [
      "29/29 [==============================] - 9s 317ms/step - loss: 59.6980 - root_mean_squared_error: 7.7264 - val_loss: 34.7571 - val_root_mean_squared_error: 5.8955\n",
      "Epoch 37/100\n",
      "28/29 [===========================>..] - ETA: 0s - loss: 55.5630 - root_mean_squared_error: 7.4541INFO:tensorflow:Assets written to: model1\\assets\n"
     ]
    },
    {
     "name": "stderr",
     "output_type": "stream",
     "text": [
      "INFO:tensorflow:Assets written to: model1\\assets\n"
     ]
    },
    {
     "name": "stdout",
     "output_type": "stream",
     "text": [
      "29/29 [==============================] - 8s 268ms/step - loss: 55.4344 - root_mean_squared_error: 7.4454 - val_loss: 31.2828 - val_root_mean_squared_error: 5.5931\n",
      "Epoch 38/100\n",
      "22/29 [=====================>........] - ETA: 0s - loss: 51.9155 - root_mean_squared_error: 7.2052INFO:tensorflow:Assets written to: model1\\assets\n"
     ]
    },
    {
     "name": "stderr",
     "output_type": "stream",
     "text": [
      "INFO:tensorflow:Assets written to: model1\\assets\n"
     ]
    },
    {
     "name": "stdout",
     "output_type": "stream",
     "text": [
      "29/29 [==============================] - 9s 338ms/step - loss: 51.5386 - root_mean_squared_error: 7.1790 - val_loss: 28.1446 - val_root_mean_squared_error: 5.3051\n",
      "Epoch 39/100\n",
      "22/29 [=====================>........] - ETA: 0s - loss: 50.0649 - root_mean_squared_error: 7.0757INFO:tensorflow:Assets written to: model1\\assets\n"
     ]
    },
    {
     "name": "stderr",
     "output_type": "stream",
     "text": [
      "INFO:tensorflow:Assets written to: model1\\assets\n"
     ]
    },
    {
     "name": "stdout",
     "output_type": "stream",
     "text": [
      "29/29 [==============================] - 9s 303ms/step - loss: 47.9369 - root_mean_squared_error: 6.9236 - val_loss: 25.1822 - val_root_mean_squared_error: 5.0182\n",
      "Epoch 40/100\n",
      "27/29 [==========================>...] - ETA: 0s - loss: 44.6388 - root_mean_squared_error: 6.6812INFO:tensorflow:Assets written to: model1\\assets\n"
     ]
    },
    {
     "name": "stderr",
     "output_type": "stream",
     "text": [
      "INFO:tensorflow:Assets written to: model1\\assets\n"
     ]
    },
    {
     "name": "stdout",
     "output_type": "stream",
     "text": [
      "29/29 [==============================] - 11s 384ms/step - loss: 44.6170 - root_mean_squared_error: 6.6796 - val_loss: 22.6008 - val_root_mean_squared_error: 4.7540\n",
      "Epoch 41/100\n",
      "28/29 [===========================>..] - ETA: 0s - loss: 41.4319 - root_mean_squared_error: 6.4368INFO:tensorflow:Assets written to: model1\\assets\n"
     ]
    },
    {
     "name": "stderr",
     "output_type": "stream",
     "text": [
      "INFO:tensorflow:Assets written to: model1\\assets\n"
     ]
    },
    {
     "name": "stdout",
     "output_type": "stream",
     "text": [
      "29/29 [==============================] - 8s 288ms/step - loss: 41.6158 - root_mean_squared_error: 6.4510 - val_loss: 20.2542 - val_root_mean_squared_error: 4.5005\n",
      "Epoch 42/100\n",
      "28/29 [===========================>..] - ETA: 0s - loss: 38.8534 - root_mean_squared_error: 6.2333INFO:tensorflow:Assets written to: model1\\assets\n"
     ]
    },
    {
     "name": "stderr",
     "output_type": "stream",
     "text": [
      "INFO:tensorflow:Assets written to: model1\\assets\n"
     ]
    },
    {
     "name": "stdout",
     "output_type": "stream",
     "text": [
      "29/29 [==============================] - 9s 309ms/step - loss: 38.8490 - root_mean_squared_error: 6.2329 - val_loss: 18.0917 - val_root_mean_squared_error: 4.2534\n",
      "Epoch 43/100\n",
      "29/29 [==============================] - ETA: 0s - loss: 36.3410 - root_mean_squared_error: 6.0284INFO:tensorflow:Assets written to: model1\\assets\n"
     ]
    },
    {
     "name": "stderr",
     "output_type": "stream",
     "text": [
      "INFO:tensorflow:Assets written to: model1\\assets\n"
     ]
    },
    {
     "name": "stdout",
     "output_type": "stream",
     "text": [
      "29/29 [==============================] - 8s 298ms/step - loss: 36.3410 - root_mean_squared_error: 6.0284 - val_loss: 16.1799 - val_root_mean_squared_error: 4.0224\n",
      "Epoch 44/100\n",
      "28/29 [===========================>..] - ETA: 0s - loss: 34.2057 - root_mean_squared_error: 5.8486INFO:tensorflow:Assets written to: model1\\assets\n"
     ]
    },
    {
     "name": "stderr",
     "output_type": "stream",
     "text": [
      "INFO:tensorflow:Assets written to: model1\\assets\n"
     ]
    },
    {
     "name": "stdout",
     "output_type": "stream",
     "text": [
      "29/29 [==============================] - 8s 299ms/step - loss: 34.0740 - root_mean_squared_error: 5.8373 - val_loss: 14.5002 - val_root_mean_squared_error: 3.8079\n",
      "Epoch 45/100\n",
      "23/29 [======================>.......] - ETA: 0s - loss: 32.3951 - root_mean_squared_error: 5.6917INFO:tensorflow:Assets written to: model1\\assets\n"
     ]
    },
    {
     "name": "stderr",
     "output_type": "stream",
     "text": [
      "INFO:tensorflow:Assets written to: model1\\assets\n"
     ]
    },
    {
     "name": "stdout",
     "output_type": "stream",
     "text": [
      "29/29 [==============================] - 9s 309ms/step - loss: 32.0580 - root_mean_squared_error: 5.6620 - val_loss: 13.0164 - val_root_mean_squared_error: 3.6078\n",
      "Epoch 46/100\n",
      "27/29 [==========================>...] - ETA: 0s - loss: 30.0051 - root_mean_squared_error: 5.4777INFO:tensorflow:Assets written to: model1\\assets\n"
     ]
    },
    {
     "name": "stderr",
     "output_type": "stream",
     "text": [
      "INFO:tensorflow:Assets written to: model1\\assets\n"
     ]
    },
    {
     "name": "stdout",
     "output_type": "stream",
     "text": [
      "29/29 [==============================] - 9s 319ms/step - loss: 30.2124 - root_mean_squared_error: 5.4966 - val_loss: 11.6789 - val_root_mean_squared_error: 3.4174\n",
      "Epoch 47/100\n",
      "29/29 [==============================] - ETA: 0s - loss: 28.5387 - root_mean_squared_error: 5.3422INFO:tensorflow:Assets written to: model1\\assets\n"
     ]
    },
    {
     "name": "stderr",
     "output_type": "stream",
     "text": [
      "INFO:tensorflow:Assets written to: model1\\assets\n"
     ]
    },
    {
     "name": "stdout",
     "output_type": "stream",
     "text": [
      "29/29 [==============================] - 12s 445ms/step - loss: 28.5387 - root_mean_squared_error: 5.3422 - val_loss: 10.5040 - val_root_mean_squared_error: 3.2410\n",
      "Epoch 48/100\n",
      "24/29 [=======================>......] - ETA: 0s - loss: 27.4939 - root_mean_squared_error: 5.2435INFO:tensorflow:Assets written to: model1\\assets\n"
     ]
    },
    {
     "name": "stderr",
     "output_type": "stream",
     "text": [
      "INFO:tensorflow:Assets written to: model1\\assets\n"
     ]
    },
    {
     "name": "stdout",
     "output_type": "stream",
     "text": [
      "29/29 [==============================] - 13s 465ms/step - loss: 27.0503 - root_mean_squared_error: 5.2010 - val_loss: 9.4501 - val_root_mean_squared_error: 3.0741\n",
      "Epoch 49/100\n",
      "25/29 [========================>.....] - ETA: 0s - loss: 25.7508 - root_mean_squared_error: 5.0745INFO:tensorflow:Assets written to: model1\\assets\n"
     ]
    },
    {
     "name": "stderr",
     "output_type": "stream",
     "text": [
      "INFO:tensorflow:Assets written to: model1\\assets\n"
     ]
    },
    {
     "name": "stdout",
     "output_type": "stream",
     "text": [
      "29/29 [==============================] - 14s 508ms/step - loss: 25.6623 - root_mean_squared_error: 5.0658 - val_loss: 8.5446 - val_root_mean_squared_error: 2.9231\n",
      "Epoch 50/100\n",
      "24/29 [=======================>......] - ETA: 0s - loss: 23.7148 - root_mean_squared_error: 4.8698INFO:tensorflow:Assets written to: model1\\assets\n"
     ]
    },
    {
     "name": "stderr",
     "output_type": "stream",
     "text": [
      "INFO:tensorflow:Assets written to: model1\\assets\n"
     ]
    },
    {
     "name": "stdout",
     "output_type": "stream",
     "text": [
      "29/29 [==============================] - 14s 493ms/step - loss: 24.4215 - root_mean_squared_error: 4.9418 - val_loss: 7.7357 - val_root_mean_squared_error: 2.7813\n",
      "Epoch 51/100\n",
      "25/29 [========================>.....] - ETA: 0s - loss: 23.6877 - root_mean_squared_error: 4.8670INFO:tensorflow:Assets written to: model1\\assets\n"
     ]
    },
    {
     "name": "stderr",
     "output_type": "stream",
     "text": [
      "INFO:tensorflow:Assets written to: model1\\assets\n"
     ]
    },
    {
     "name": "stdout",
     "output_type": "stream",
     "text": [
      "29/29 [==============================] - 13s 473ms/step - loss: 23.3527 - root_mean_squared_error: 4.8325 - val_loss: 7.0583 - val_root_mean_squared_error: 2.6567\n",
      "Epoch 52/100\n",
      "29/29 [==============================] - ETA: 0s - loss: 22.4001 - root_mean_squared_error: 4.7329INFO:tensorflow:Assets written to: model1\\assets\n"
     ]
    },
    {
     "name": "stderr",
     "output_type": "stream",
     "text": [
      "INFO:tensorflow:Assets written to: model1\\assets\n"
     ]
    },
    {
     "name": "stdout",
     "output_type": "stream",
     "text": [
      "29/29 [==============================] - 15s 529ms/step - loss: 22.4001 - root_mean_squared_error: 4.7329 - val_loss: 6.4778 - val_root_mean_squared_error: 2.5452\n",
      "Epoch 53/100\n",
      "29/29 [==============================] - ETA: 0s - loss: 21.5644 - root_mean_squared_error: 4.6437INFO:tensorflow:Assets written to: model1\\assets\n"
     ]
    },
    {
     "name": "stderr",
     "output_type": "stream",
     "text": [
      "INFO:tensorflow:Assets written to: model1\\assets\n"
     ]
    },
    {
     "name": "stdout",
     "output_type": "stream",
     "text": [
      "29/29 [==============================] - 14s 495ms/step - loss: 21.5644 - root_mean_squared_error: 4.6437 - val_loss: 5.9953 - val_root_mean_squared_error: 2.4485\n",
      "Epoch 54/100\n",
      "24/29 [=======================>......] - ETA: 0s - loss: 21.2281 - root_mean_squared_error: 4.6074INFO:tensorflow:Assets written to: model1\\assets\n"
     ]
    },
    {
     "name": "stderr",
     "output_type": "stream",
     "text": [
      "INFO:tensorflow:Assets written to: model1\\assets\n"
     ]
    },
    {
     "name": "stdout",
     "output_type": "stream",
     "text": [
      "29/29 [==============================] - 15s 519ms/step - loss: 20.7934 - root_mean_squared_error: 4.5600 - val_loss: 5.5649 - val_root_mean_squared_error: 2.3590\n",
      "Epoch 55/100\n",
      "25/29 [========================>.....] - ETA: 0s - loss: 20.6005 - root_mean_squared_error: 4.5388INFO:tensorflow:Assets written to: model1\\assets\n"
     ]
    },
    {
     "name": "stderr",
     "output_type": "stream",
     "text": [
      "INFO:tensorflow:Assets written to: model1\\assets\n"
     ]
    },
    {
     "name": "stdout",
     "output_type": "stream",
     "text": [
      "29/29 [==============================] - 12s 418ms/step - loss: 20.1289 - root_mean_squared_error: 4.4865 - val_loss: 5.2142 - val_root_mean_squared_error: 2.2835\n",
      "Epoch 56/100\n",
      "26/29 [=========================>....] - ETA: 0s - loss: 19.1167 - root_mean_squared_error: 4.3723INFO:tensorflow:Assets written to: model1\\assets\n"
     ]
    },
    {
     "name": "stderr",
     "output_type": "stream",
     "text": [
      "INFO:tensorflow:Assets written to: model1\\assets\n"
     ]
    },
    {
     "name": "stdout",
     "output_type": "stream",
     "text": [
      "29/29 [==============================] - 9s 323ms/step - loss: 19.5329 - root_mean_squared_error: 4.4196 - val_loss: 4.9318 - val_root_mean_squared_error: 2.2208\n",
      "Epoch 57/100\n",
      "29/29 [==============================] - ETA: 0s - loss: 19.0100 - root_mean_squared_error: 4.3600INFO:tensorflow:Assets written to: model1\\assets\n"
     ]
    },
    {
     "name": "stderr",
     "output_type": "stream",
     "text": [
      "INFO:tensorflow:Assets written to: model1\\assets\n"
     ]
    },
    {
     "name": "stdout",
     "output_type": "stream",
     "text": [
      "29/29 [==============================] - 12s 445ms/step - loss: 19.0100 - root_mean_squared_error: 4.3600 - val_loss: 4.6880 - val_root_mean_squared_error: 2.1652\n",
      "Epoch 58/100\n",
      "27/29 [==========================>...] - ETA: 0s - loss: 18.9249 - root_mean_squared_error: 4.3503INFO:tensorflow:Assets written to: model1\\assets\n"
     ]
    },
    {
     "name": "stderr",
     "output_type": "stream",
     "text": [
      "INFO:tensorflow:Assets written to: model1\\assets\n"
     ]
    },
    {
     "name": "stdout",
     "output_type": "stream",
     "text": [
      "29/29 [==============================] - 14s 492ms/step - loss: 18.5489 - root_mean_squared_error: 4.3068 - val_loss: 4.5037 - val_root_mean_squared_error: 2.1222\n",
      "Epoch 59/100\n",
      "29/29 [==============================] - ETA: 0s - loss: 18.1678 - root_mean_squared_error: 4.2624INFO:tensorflow:Assets written to: model1\\assets\n"
     ]
    },
    {
     "name": "stderr",
     "output_type": "stream",
     "text": [
      "INFO:tensorflow:Assets written to: model1\\assets\n"
     ]
    },
    {
     "name": "stdout",
     "output_type": "stream",
     "text": [
      "29/29 [==============================] - 14s 517ms/step - loss: 18.1678 - root_mean_squared_error: 4.2624 - val_loss: 4.3666 - val_root_mean_squared_error: 2.0896\n",
      "Epoch 60/100\n",
      "24/29 [=======================>......] - ETA: 0s - loss: 18.1224 - root_mean_squared_error: 4.2570INFO:tensorflow:Assets written to: model1\\assets\n"
     ]
    },
    {
     "name": "stderr",
     "output_type": "stream",
     "text": [
      "INFO:tensorflow:Assets written to: model1\\assets\n"
     ]
    },
    {
     "name": "stdout",
     "output_type": "stream",
     "text": [
      "29/29 [==============================] - 12s 434ms/step - loss: 17.8469 - root_mean_squared_error: 4.2246 - val_loss: 4.2671 - val_root_mean_squared_error: 2.0657\n",
      "Epoch 61/100\n",
      "29/29 [==============================] - ETA: 0s - loss: 17.5662 - root_mean_squared_error: 4.1912INFO:tensorflow:Assets written to: model1\\assets\n"
     ]
    },
    {
     "name": "stderr",
     "output_type": "stream",
     "text": [
      "INFO:tensorflow:Assets written to: model1\\assets\n"
     ]
    },
    {
     "name": "stdout",
     "output_type": "stream",
     "text": [
      "29/29 [==============================] - 11s 407ms/step - loss: 17.5662 - root_mean_squared_error: 4.1912 - val_loss: 4.1912 - val_root_mean_squared_error: 2.0472\n",
      "Epoch 62/100\n",
      "27/29 [==========================>...] - ETA: 0s - loss: 17.2893 - root_mean_squared_error: 4.1580INFO:tensorflow:Assets written to: model1\\assets\n"
     ]
    },
    {
     "name": "stderr",
     "output_type": "stream",
     "text": [
      "INFO:tensorflow:Assets written to: model1\\assets\n"
     ]
    },
    {
     "name": "stdout",
     "output_type": "stream",
     "text": [
      "29/29 [==============================] - 9s 335ms/step - loss: 17.3265 - root_mean_squared_error: 4.1625 - val_loss: 4.1439 - val_root_mean_squared_error: 2.0356\n",
      "Epoch 63/100\n",
      "23/29 [======================>.......] - ETA: 0s - loss: 16.9606 - root_mean_squared_error: 4.1183INFO:tensorflow:Assets written to: model1\\assets\n"
     ]
    },
    {
     "name": "stderr",
     "output_type": "stream",
     "text": [
      "INFO:tensorflow:Assets written to: model1\\assets\n"
     ]
    },
    {
     "name": "stdout",
     "output_type": "stream",
     "text": [
      "29/29 [==============================] - 9s 308ms/step - loss: 17.1193 - root_mean_squared_error: 4.1375 - val_loss: 4.1130 - val_root_mean_squared_error: 2.0281\n",
      "Epoch 64/100\n",
      "28/29 [===========================>..] - ETA: 0s - loss: 16.9092 - root_mean_squared_error: 4.1121INFO:tensorflow:Assets written to: model1\\assets\n"
     ]
    },
    {
     "name": "stderr",
     "output_type": "stream",
     "text": [
      "INFO:tensorflow:Assets written to: model1\\assets\n"
     ]
    },
    {
     "name": "stdout",
     "output_type": "stream",
     "text": [
      "29/29 [==============================] - 8s 292ms/step - loss: 16.9454 - root_mean_squared_error: 4.1165 - val_loss: 4.0998 - val_root_mean_squared_error: 2.0248\n",
      "Epoch 65/100\n",
      "29/29 [==============================] - 0s 10ms/step - loss: 16.7951 - root_mean_squared_error: 4.0982 - val_loss: 4.1009 - val_root_mean_squared_error: 2.0251\n",
      "Epoch 66/100\n",
      "29/29 [==============================] - 0s 10ms/step - loss: 16.6552 - root_mean_squared_error: 4.0811 - val_loss: 4.1120 - val_root_mean_squared_error: 2.0278\n",
      "Epoch 67/100\n",
      "29/29 [==============================] - 0s 11ms/step - loss: 16.5493 - root_mean_squared_error: 4.0681 - val_loss: 4.1316 - val_root_mean_squared_error: 2.0326\n",
      "Epoch 68/100\n",
      "29/29 [==============================] - 0s 13ms/step - loss: 16.4558 - root_mean_squared_error: 4.0566 - val_loss: 4.1598 - val_root_mean_squared_error: 2.0396\n",
      "Epoch 69/100\n",
      "29/29 [==============================] - 0s 12ms/step - loss: 16.3804 - root_mean_squared_error: 4.0473 - val_loss: 4.1932 - val_root_mean_squared_error: 2.0477\n",
      "Epoch 70/100\n",
      "29/29 [==============================] - 0s 12ms/step - loss: 16.3133 - root_mean_squared_error: 4.0390 - val_loss: 4.2269 - val_root_mean_squared_error: 2.0559\n",
      "Epoch 71/100\n",
      "29/29 [==============================] - 0s 10ms/step - loss: 16.2577 - root_mean_squared_error: 4.0321 - val_loss: 4.2636 - val_root_mean_squared_error: 2.0648\n",
      "Epoch 72/100\n",
      "29/29 [==============================] - 0s 10ms/step - loss: 16.2146 - root_mean_squared_error: 4.0267 - val_loss: 4.3088 - val_root_mean_squared_error: 2.0758\n",
      "Epoch 73/100\n",
      "29/29 [==============================] - 0s 10ms/step - loss: 16.1730 - root_mean_squared_error: 4.0216 - val_loss: 4.3498 - val_root_mean_squared_error: 2.0856\n",
      "Epoch 74/100\n",
      "29/29 [==============================] - 0s 10ms/step - loss: 16.1468 - root_mean_squared_error: 4.0183 - val_loss: 4.3734 - val_root_mean_squared_error: 2.0913\n",
      "Epoch 75/100\n",
      "29/29 [==============================] - 0s 10ms/step - loss: 16.1131 - root_mean_squared_error: 4.0141 - val_loss: 4.4352 - val_root_mean_squared_error: 2.1060\n",
      "Epoch 76/100\n",
      "29/29 [==============================] - 0s 10ms/step - loss: 16.0808 - root_mean_squared_error: 4.0101 - val_loss: 4.4807 - val_root_mean_squared_error: 2.1168\n",
      "Epoch 77/100\n",
      "29/29 [==============================] - 0s 12ms/step - loss: 16.0649 - root_mean_squared_error: 4.0081 - val_loss: 4.5185 - val_root_mean_squared_error: 2.1257\n",
      "Epoch 78/100\n",
      "29/29 [==============================] - 0s 11ms/step - loss: 16.0527 - root_mean_squared_error: 4.0066 - val_loss: 4.5674 - val_root_mean_squared_error: 2.1372\n",
      "Epoch 79/100\n",
      "29/29 [==============================] - 0s 12ms/step - loss: 16.0377 - root_mean_squared_error: 4.0047 - val_loss: 4.5871 - val_root_mean_squared_error: 2.1417\n",
      "Epoch 80/100\n",
      "29/29 [==============================] - 0s 11ms/step - loss: 16.0301 - root_mean_squared_error: 4.0038 - val_loss: 4.6176 - val_root_mean_squared_error: 2.1489\n",
      "Epoch 81/100\n",
      "29/29 [==============================] - 0s 11ms/step - loss: 16.0232 - root_mean_squared_error: 4.0029 - val_loss: 4.6468 - val_root_mean_squared_error: 2.1556\n",
      "Epoch 82/100\n",
      "29/29 [==============================] - 0s 12ms/step - loss: 16.0152 - root_mean_squared_error: 4.0019 - val_loss: 4.6867 - val_root_mean_squared_error: 2.1649\n",
      "Epoch 83/100\n",
      "29/29 [==============================] - 0s 11ms/step - loss: 16.0124 - root_mean_squared_error: 4.0016 - val_loss: 4.7036 - val_root_mean_squared_error: 2.1688\n",
      "Epoch 84/100\n",
      "29/29 [==============================] - 0s 11ms/step - loss: 16.0110 - root_mean_squared_error: 4.0014 - val_loss: 4.7308 - val_root_mean_squared_error: 2.1750\n",
      "Epoch 85/100\n",
      "29/29 [==============================] - 0s 11ms/step - loss: 16.0057 - root_mean_squared_error: 4.0007 - val_loss: 4.7486 - val_root_mean_squared_error: 2.1791\n",
      "Epoch 86/100\n",
      "29/29 [==============================] - 0s 11ms/step - loss: 16.0051 - root_mean_squared_error: 4.0006 - val_loss: 4.7869 - val_root_mean_squared_error: 2.1879\n",
      "Epoch 87/100\n",
      "29/29 [==============================] - 0s 11ms/step - loss: 16.0020 - root_mean_squared_error: 4.0002 - val_loss: 4.8172 - val_root_mean_squared_error: 2.1948\n",
      "Epoch 88/100\n",
      "29/29 [==============================] - 0s 11ms/step - loss: 15.9981 - root_mean_squared_error: 3.9998 - val_loss: 4.8312 - val_root_mean_squared_error: 2.1980\n",
      "Epoch 89/100\n",
      "29/29 [==============================] - 0s 12ms/step - loss: 15.9983 - root_mean_squared_error: 3.9998 - val_loss: 4.8390 - val_root_mean_squared_error: 2.1998\n",
      "Epoch 90/100\n",
      "29/29 [==============================] - 0s 11ms/step - loss: 15.9990 - root_mean_squared_error: 3.9999 - val_loss: 4.8299 - val_root_mean_squared_error: 2.1977\n",
      "Epoch 91/100\n",
      "29/29 [==============================] - 0s 11ms/step - loss: 15.9976 - root_mean_squared_error: 3.9997 - val_loss: 4.8433 - val_root_mean_squared_error: 2.2007\n",
      "Epoch 92/100\n",
      "29/29 [==============================] - 0s 11ms/step - loss: 15.9988 - root_mean_squared_error: 3.9998 - val_loss: 4.8676 - val_root_mean_squared_error: 2.2063\n",
      "Epoch 93/100\n",
      "29/29 [==============================] - 0s 11ms/step - loss: 15.9972 - root_mean_squared_error: 3.9996 - val_loss: 4.8735 - val_root_mean_squared_error: 2.2076\n",
      "Epoch 94/100\n",
      "29/29 [==============================] - 0s 12ms/step - loss: 15.9964 - root_mean_squared_error: 3.9995 - val_loss: 4.8936 - val_root_mean_squared_error: 2.2122\n",
      "Epoch 95/100\n",
      "29/29 [==============================] - 0s 11ms/step - loss: 15.9988 - root_mean_squared_error: 3.9999 - val_loss: 4.9124 - val_root_mean_squared_error: 2.2164\n",
      "Epoch 96/100\n",
      "29/29 [==============================] - 0s 11ms/step - loss: 15.9956 - root_mean_squared_error: 3.9994 - val_loss: 4.8895 - val_root_mean_squared_error: 2.2112\n",
      "Epoch 97/100\n",
      "29/29 [==============================] - 0s 11ms/step - loss: 15.9967 - root_mean_squared_error: 3.9996 - val_loss: 4.8754 - val_root_mean_squared_error: 2.2080\n",
      "Epoch 98/100\n",
      "29/29 [==============================] - 0s 11ms/step - loss: 15.9963 - root_mean_squared_error: 3.9995 - val_loss: 4.9041 - val_root_mean_squared_error: 2.2145\n",
      "Epoch 99/100\n",
      "29/29 [==============================] - 0s 12ms/step - loss: 15.9974 - root_mean_squared_error: 3.9997 - val_loss: 4.8942 - val_root_mean_squared_error: 2.2123\n",
      "Epoch 100/100\n",
      "29/29 [==============================] - 0s 11ms/step - loss: 15.9964 - root_mean_squared_error: 3.9995 - val_loss: 4.8959 - val_root_mean_squared_error: 2.2127\n"
     ]
    },
    {
     "data": {
      "text/plain": [
       "<keras.src.callbacks.History at 0x1c9611b1490>"
      ]
     },
     "execution_count": 10,
     "metadata": {},
     "output_type": "execute_result"
    }
   ],
   "source": [
    "model1.fit(X_train1, y_train1, validation_data=(X_val1, y_val1), epochs=100, callbacks=[cp1])"
   ]
  },
  {
   "cell_type": "code",
   "execution_count": 14,
   "id": "d2aa1614",
   "metadata": {},
   "outputs": [],
   "source": [
    "from tensorflow.keras.models import load_model\n",
    "model1 = load_model('model1/')"
   ]
  },
  {
   "cell_type": "code",
   "execution_count": 15,
   "id": "d7ef2add",
   "metadata": {},
   "outputs": [
    {
     "name": "stdout",
     "output_type": "stream",
     "text": [
      "29/29 [==============================] - 1s 5ms/step\n"
     ]
    },
    {
     "data": {
      "text/html": [
       "<div>\n",
       "<style scoped>\n",
       "    .dataframe tbody tr th:only-of-type {\n",
       "        vertical-align: middle;\n",
       "    }\n",
       "\n",
       "    .dataframe tbody tr th {\n",
       "        vertical-align: top;\n",
       "    }\n",
       "\n",
       "    .dataframe thead th {\n",
       "        text-align: right;\n",
       "    }\n",
       "</style>\n",
       "<table border=\"1\" class=\"dataframe\">\n",
       "  <thead>\n",
       "    <tr style=\"text-align: right;\">\n",
       "      <th></th>\n",
       "      <th>Train Predictions</th>\n",
       "      <th>Actuals</th>\n",
       "    </tr>\n",
       "  </thead>\n",
       "  <tbody>\n",
       "    <tr>\n",
       "      <th>0</th>\n",
       "      <td>28.156105</td>\n",
       "      <td>29</td>\n",
       "    </tr>\n",
       "    <tr>\n",
       "      <th>1</th>\n",
       "      <td>28.164856</td>\n",
       "      <td>24</td>\n",
       "    </tr>\n",
       "    <tr>\n",
       "      <th>2</th>\n",
       "      <td>28.159046</td>\n",
       "      <td>23</td>\n",
       "    </tr>\n",
       "    <tr>\n",
       "      <th>3</th>\n",
       "      <td>28.155886</td>\n",
       "      <td>24</td>\n",
       "    </tr>\n",
       "    <tr>\n",
       "      <th>4</th>\n",
       "      <td>28.156666</td>\n",
       "      <td>29</td>\n",
       "    </tr>\n",
       "    <tr>\n",
       "      <th>...</th>\n",
       "      <td>...</td>\n",
       "      <td>...</td>\n",
       "    </tr>\n",
       "    <tr>\n",
       "      <th>895</th>\n",
       "      <td>28.159275</td>\n",
       "      <td>27</td>\n",
       "    </tr>\n",
       "    <tr>\n",
       "      <th>896</th>\n",
       "      <td>28.155123</td>\n",
       "      <td>34</td>\n",
       "    </tr>\n",
       "    <tr>\n",
       "      <th>897</th>\n",
       "      <td>28.158964</td>\n",
       "      <td>30</td>\n",
       "    </tr>\n",
       "    <tr>\n",
       "      <th>898</th>\n",
       "      <td>28.161182</td>\n",
       "      <td>27</td>\n",
       "    </tr>\n",
       "    <tr>\n",
       "      <th>899</th>\n",
       "      <td>28.158621</td>\n",
       "      <td>27</td>\n",
       "    </tr>\n",
       "  </tbody>\n",
       "</table>\n",
       "<p>900 rows × 2 columns</p>\n",
       "</div>"
      ],
      "text/plain": [
       "     Train Predictions  Actuals\n",
       "0            28.156105       29\n",
       "1            28.164856       24\n",
       "2            28.159046       23\n",
       "3            28.155886       24\n",
       "4            28.156666       29\n",
       "..                 ...      ...\n",
       "895          28.159275       27\n",
       "896          28.155123       34\n",
       "897          28.158964       30\n",
       "898          28.161182       27\n",
       "899          28.158621       27\n",
       "\n",
       "[900 rows x 2 columns]"
      ]
     },
     "execution_count": 15,
     "metadata": {},
     "output_type": "execute_result"
    }
   ],
   "source": [
    "train_predictions = model1.predict(X_train1).flatten()\n",
    "train_results = pd.DataFrame(data={'Train Predictions':train_predictions, 'Actuals':y_train1})\n",
    "train_results"
   ]
  },
  {
   "cell_type": "code",
   "execution_count": 16,
   "id": "192dd0a3",
   "metadata": {},
   "outputs": [
    {
     "data": {
      "text/plain": [
       "[<matplotlib.lines.Line2D at 0x1c967cd6bd0>]"
      ]
     },
     "execution_count": 16,
     "metadata": {},
     "output_type": "execute_result"
    },
    {
     "data": {
      "image/png": "[encoded data removed]",
      "text/plain": [
       "<Figure size 640x480 with 1 Axes>"
      ]
     },
     "metadata": {},
     "output_type": "display_data"
    }
   ],
   "source": [
    "import matplotlib.pyplot as plt\n",
    "plt.plot(train_results['Train Predictions'][:100])\n",
    "plt.plot(train_results['Actuals'][:100])"
   ]
  },
  {
   "cell_type": "code",
   "execution_count": 17,
   "id": "9ef1f5af",
   "metadata": {},
   "outputs": [],
   "source": [
    "import random\n",
    "import time\n",
    "import mysql.connector\n",
    "from datetime import datetime\n",
    "\n",
    "# Connect to your MySQL database\n",
    "conn = mysql.connector.connect(\n",
    "    host=\"localhost\",\n",
    "    user=\"root\",\n",
    "    password=\"\",\n",
    "    database=\"lass\"\n",
    ")\n",
    "cursor = conn.cursor()\n",
    "for(row,rs)in train_results.iterrows():\n",
    "    a=str(rs[0])\n",
    "    b=str(rs[1])\n",
    "    \n",
    "    q=\"INSERT INTO weatherdata(predicted,actual) VALUES (%s,%s)\"\n",
    "    data=(a,b)\n",
    "    cursor.execute(q,data)\n",
    "    conn.commit()\n",
    "cursor.close()\n",
    "conn.close()"
   ]
  },
  {
   "cell_type": "code",
   "execution_count": null,
   "id": "8a1ba0b3",
   "metadata": {},
   "outputs": [],
   "source": []
  },
  {
   "cell_type": "code",
   "execution_count": null,
   "id": "cfdc56fa",
   "metadata": {},
   "outputs": [],
   "source": []
  }
 ],
 "metadata": {
  "kernelspec": {
   "display_name": "Python 3 (ipykernel)",
   "language": "python",
   "name": "python3"
  },
  "language_info": {
   "codemirror_mode": {
    "name": "ipython",
    "version": 3
   },
   "file_extension": ".py",
   "mimetype": "text/x-python",
   "name": "python",
   "nbconvert_exporter": "python",
   "pygments_lexer": "ipython3",
   "version": "3.11.4"
  }
 },
 "nbformat": 4,
 "nbformat_minor": 5
}
